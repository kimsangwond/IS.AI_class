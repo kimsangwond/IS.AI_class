{
 "cells": [
  {
   "cell_type": "code",
   "execution_count": 1,
   "metadata": {},
   "outputs": [],
   "source": [
    "import pandas as pd"
   ]
  },
  {
   "cell_type": "code",
   "execution_count": 2,
   "metadata": {},
   "outputs": [],
   "source": [
    "data1 = pd.read_csv(\"lottery.csv\", sep=\",\")"
   ]
  },
  {
   "cell_type": "code",
   "execution_count": 3,
   "metadata": {},
   "outputs": [],
   "source": [
    "data2 = pd.read_csv(\"lottery_modified2.csv\", sep=\",\")"
   ]
  },
  {
   "cell_type": "code",
   "execution_count": 4,
   "metadata": {},
   "outputs": [],
   "source": [
    "df1 = pd.DataFrame( data1)"
   ]
  },
  {
   "cell_type": "code",
   "execution_count": 5,
   "metadata": {},
   "outputs": [],
   "source": [
    "df2 = pd.DataFrame( data2, columns = [\"win 1\", \"win 2\", \"win 3\"])"
   ]
  },
  {
   "cell_type": "code",
   "execution_count": 6,
   "metadata": {},
   "outputs": [
    {
     "name": "stdout",
     "output_type": "stream",
     "text": [
      "     win 1  win 2  win 3\n",
      "0       12     35  1,743\n",
      "1        6     61  1,873\n",
      "2        7     46  2,029\n",
      "3        9     50  1,791\n",
      "4        4     47  1,727\n",
      "..     ...    ...    ...\n",
      "711      0      0     42\n",
      "712      0      1     29\n",
      "713      1      0    139\n",
      "714      1      2    103\n",
      "715      0      1     28\n",
      "\n",
      "[716 rows x 3 columns]\n"
     ]
    }
   ],
   "source": [
    "print(df2)"
   ]
  },
  {
   "cell_type": "code",
   "execution_count": 7,
   "metadata": {},
   "outputs": [],
   "source": [
    "df3 = pd.merge(df1, df2, left_index=True, right_index=True)"
   ]
  },
  {
   "cell_type": "code",
   "execution_count": 8,
   "metadata": {},
   "outputs": [
    {
     "name": "stdout",
     "output_type": "stream",
     "text": [
      "     round        date  first  second  third  fourth  fifth  sixth  bonus  \\\n",
      "0      716  2016.08.20      2       6     13      16     29     30     21   \n",
      "1      715  2016.08.13      2       7     27      33     41     44     10   \n",
      "2      714  2016.08.06      1       7     22      33     37     40     20   \n",
      "3      713  2016.07.30      2       5     15      18     19     23     44   \n",
      "4      712  2016.07.23     17      20     30      31     33     45     19   \n",
      "..     ...         ...    ...     ...    ...     ...    ...    ...    ...   \n",
      "711      5  2003.01.04     16      24     29      40     41     42      3   \n",
      "712      4  2002.12.28     14      27     30      31     40     42      2   \n",
      "713      3  2002.12.21     11      16     19      21     27     31     30   \n",
      "714      2  2002.12.14      9      13     21      25     32     42      2   \n",
      "715      1  2002.12.07     10      23     29      33     37     40     16   \n",
      "\n",
      "     win 1  win 2  win 3  \n",
      "0       12     35  1,743  \n",
      "1        6     61  1,873  \n",
      "2        7     46  2,029  \n",
      "3        9     50  1,791  \n",
      "4        4     47  1,727  \n",
      "..     ...    ...    ...  \n",
      "711      0      0     42  \n",
      "712      0      1     29  \n",
      "713      1      0    139  \n",
      "714      1      2    103  \n",
      "715      0      1     28  \n",
      "\n",
      "[716 rows x 12 columns]\n"
     ]
    }
   ],
   "source": [
    "print(df3)"
   ]
  },
  {
   "cell_type": "code",
   "execution_count": 9,
   "metadata": {},
   "outputs": [],
   "source": [
    "df3.to_csv('merging_lottery.csv')"
   ]
  },
  {
   "cell_type": "code",
   "execution_count": 10,
   "metadata": {},
   "outputs": [
    {
     "name": "stdout",
     "output_type": "stream",
     "text": [
      "     round        date  first  second  third  fourth  fifth  sixth  bonus  \\\n",
      "0      716  2016.08.20      2       6     13      16     29     30     21   \n",
      "1      715  2016.08.13      2       7     27      33     41     44     10   \n",
      "2      714  2016.08.06      1       7     22      33     37     40     20   \n",
      "3      713  2016.07.30      2       5     15      18     19     23     44   \n",
      "4      712  2016.07.23     17      20     30      31     33     45     19   \n",
      "..     ...         ...    ...     ...    ...     ...    ...    ...    ...   \n",
      "711      5  2003.01.04     16      24     29      40     41     42      3   \n",
      "712      4  2002.12.28     14      27     30      31     40     42      2   \n",
      "713      3  2002.12.21     11      16     19      21     27     31     30   \n",
      "714      2  2002.12.14      9      13     21      25     32     42      2   \n",
      "715      1  2002.12.07     10      23     29      33     37     40     16   \n",
      "\n",
      "     win 1  win 2  win 3  \n",
      "0       12     35  1,743  \n",
      "1        6     61  1,873  \n",
      "2        7     46  2,029  \n",
      "3        9     50  1,791  \n",
      "4        4     47  1,727  \n",
      "..     ...    ...    ...  \n",
      "711      0      0     42  \n",
      "712      0      1     29  \n",
      "713      1      0    139  \n",
      "714      1      2    103  \n",
      "715      0      1     28  \n",
      "\n",
      "[716 rows x 12 columns]\n"
     ]
    }
   ],
   "source": [
    "print(df3.iloc[:,:20])"
   ]
  }
 ],
 "metadata": {
  "kernelspec": {
   "display_name": "Python 3",
   "language": "python",
   "name": "python3"
  },
  "language_info": {
   "codemirror_mode": {
    "name": "ipython",
    "version": 3
   },
   "file_extension": ".py",
   "mimetype": "text/x-python",
   "name": "python",
   "nbconvert_exporter": "python",
   "pygments_lexer": "ipython3",
   "version": "3.7.1"
  }
 },
 "nbformat": 4,
 "nbformat_minor": 2
}
